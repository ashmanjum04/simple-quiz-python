{
 "cells": [
  {
   "cell_type": "code",
   "execution_count": null,
   "id": "e0f2f385-db6f-4e44-b634-cda6a0314ab4",
   "metadata": {},
   "outputs": [],
   "source": [
    "questions = [{\"question\": \"what is the full form OTP?\",\n",
    "              \"options\":[\"A. ONE TIME PRINT\", \"B. ON THE PIN\", \"C. ONE TIME PASSWORD\"],\n",
    "              \"answer\": \"C\"},\n",
    "             {\"question\": \"sun sets in the?\",\n",
    "              \"options\":[\"A. EAST\", \"B. WEST\", \"C. NORTH\"],\n",
    "              \"answer\": \"B\"},\n",
    "             {\"question\": \"Full form of ATM?\", \n",
    "              \"options\":[\"A. ANY TIME MACHINE\",\"B.  A TECHNICAL MACHINE\", \"C. AUTOMATED TELLER MACHINE\"],\n",
    "              \"answer\": \"C\"}]\n",
    "def run_quiz():\n",
    "    score = 0\n",
    "\n",
    "    for q in questions:\n",
    "        print(\"\\n\" + q[\"question\"])\n",
    "        for opt in q[\"options\"]:\n",
    "            print(opt)\n",
    "\n",
    "        answer = input(\"enter you answer (A/B/C):\").upper()\n",
    "\n",
    "        if answer == q[\"answer\"]:\n",
    "           print(\"correct\")\n",
    "           score +=1\n",
    "        else:\n",
    "            print(f\"wrong, the correct answer is {q['answer']}\")\n",
    "\n",
    "    print(f\"\\n your final score is: {score} out of {len(questions)}\")\n",
    "\n",
    "run_quiz()"
   ]
  }
 ],
 "metadata": {
  "kernelspec": {
   "display_name": "Python 3 (ipykernel)",
   "language": "python",
   "name": "python3"
  },
  "language_info": {
   "codemirror_mode": {
    "name": "ipython",
    "version": 3
   },
   "file_extension": ".py",
   "mimetype": "text/x-python",
   "name": "python",
   "nbconvert_exporter": "python",
   "pygments_lexer": "ipython3",
   "version": "3.12.7"
  }
 },
 "nbformat": 4,
 "nbformat_minor": 5
}
